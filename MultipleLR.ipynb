{
  "nbformat": 4,
  "nbformat_minor": 0,
  "metadata": {
    "colab": {
      "provenance": [],
      "authorship_tag": "ABX9TyMGaJPrGO2+ymldyHndYcLA",
      "include_colab_link": true
    },
    "kernelspec": {
      "name": "ir",
      "display_name": "R"
    },
    "language_info": {
      "name": "R"
    }
  },
  "cells": [
    {
      "cell_type": "markdown",
      "metadata": {
        "id": "view-in-github",
        "colab_type": "text"
      },
      "source": [
        "<a href=\"https://colab.research.google.com/github/rshaikh95/datasci_6_regression/blob/main/MultipleLR.ipynb\" target=\"_parent\"><img src=\"https://colab.research.google.com/assets/colab-badge.svg\" alt=\"Open In Colab\"/></a>"
      ]
    },
    {
      "cell_type": "code",
      "execution_count": null,
      "metadata": {
        "id": "-6pwSO2P2GWb"
      },
      "outputs": [],
      "source": [
        "install.packages(\"rms\")\n",
        "install.packages(\"lmtest\")\n",
        "\n",
        "# Load libraries\n",
        "library(ggplot2)\n",
        "library(lmtest) # homogeneity of variances of the residuals, Breusch-Pagan test\n",
        "library(rms) # Harvey-Collier test for testing linearity.\n"
      ]
    },
    {
      "cell_type": "code",
      "source": [
        "data <- read.csv('/content/healthcare-dataset-stroke-data.csv')\n",
        "data"
      ],
      "metadata": {
        "id": "M4OOhnXb2XH3"
      },
      "execution_count": null,
      "outputs": []
    },
    {
      "cell_type": "markdown",
      "source": [
        "Dependent Variable: Average glucose levels (avg_glucose_level)\n",
        "\n",
        "Independent Variable: bmi, age, stroke, heart disease"
      ],
      "metadata": {
        "id": "uiNDGnheSr9s"
      }
    },
    {
      "cell_type": "code",
      "source": [
        "# Fit the regression model\n",
        "model <- lm(avg_glucose_level ~ bmi + age + stroke + heart_disease, data)\n",
        "summary(model)"
      ],
      "metadata": {
        "colab": {
          "base_uri": "https://localhost:8080/",
          "height": 399
        },
        "id": "-kgV5OkOO2uO",
        "outputId": "0e486337-15df-479d-8876-55f597b21508"
      },
      "execution_count": null,
      "outputs": [
        {
          "output_type": "display_data",
          "data": {
            "text/plain": [
              "\n",
              "Call:\n",
              "lm(formula = avg_glucose_level ~ bmi + age + stroke + heart_disease, \n",
              "    data = data)\n",
              "\n",
              "Residuals:\n",
              "   Min     1Q Median     3Q    Max \n",
              "-92.66 -28.45 -11.87  14.00 161.44 \n",
              "\n",
              "Coefficients:\n",
              "              Estimate Std. Error t value Pr(>|t|)    \n",
              "(Intercept)   72.18975    2.39751  30.110  < 2e-16 ***\n",
              "bmi            0.64141    0.08352   7.680 1.90e-14 ***\n",
              "age            0.31295    0.03019  10.366  < 2e-16 ***\n",
              "stroke        15.86293    2.91932   5.434 5.77e-08 ***\n",
              "heart_disease 21.33597    2.79546   7.632 2.73e-14 ***\n",
              "---\n",
              "Signif. codes:  0 ‘***’ 0.001 ‘**’ 0.01 ‘*’ 0.05 ‘.’ 0.1 ‘ ’ 1\n",
              "\n",
              "Residual standard error: 43.39 on 5105 degrees of freedom\n",
              "Multiple R-squared:  0.08254,\tAdjusted R-squared:  0.08182 \n",
              "F-statistic: 114.8 on 4 and 5105 DF,  p-value: < 2.2e-16\n"
            ]
          },
          "metadata": {}
        }
      ]
    },
    {
      "cell_type": "code",
      "source": [
        "# Calculate residuals and fitted values\n",
        "residuals <- model$residuals\n",
        "fitted <- model$fitted.values\n"
      ],
      "metadata": {
        "id": "lcBsfrE9TeBD"
      },
      "execution_count": null,
      "outputs": []
    },
    {
      "cell_type": "code",
      "source": [
        "# CHECKING ASSUMPTIONS\n",
        "\n",
        "# Assessing linearity of the relationship\n",
        "plot(fitted, residuals)\n",
        "abline(h = 0, col = \"red\")\n",
        "title(\"Residuals vs Fitted Values\")\n",
        "plot(data$avg_glucose_level, fitted)\n",
        "abline(0, 1, col = \"red\")\n",
        "title(\"Observed vs Fitted Values\")"
      ],
      "metadata": {
        "id": "6axNXZ8-Txwi"
      },
      "execution_count": null,
      "outputs": []
    },
    {
      "cell_type": "code",
      "source": [
        "# Harvey-Collier test for linearity\n",
        "hc_test <- harvtest(model)\n",
        "print(hc_test)\n"
      ],
      "metadata": {
        "colab": {
          "base_uri": "https://localhost:8080/"
        },
        "id": "baVdiP-AUHbS",
        "outputId": "7a9fa9d1-4767-4ede-f33e-58add6abc8a4"
      },
      "execution_count": null,
      "outputs": [
        {
          "output_type": "stream",
          "name": "stderr",
          "text": [
            "Warning message in sqrt(fr):\n",
            "“NaNs produced”\n",
            "Warning message in sqrt(fr):\n",
            "“NaNs produced”\n"
          ]
        },
        {
          "output_type": "stream",
          "name": "stdout",
          "text": [
            "\n",
            "\tHarvey-Collier test\n",
            "\n",
            "data:  model\n",
            "HC = NA, df = 5104, p-value = NA\n",
            "\n"
          ]
        }
      ]
    },
    {
      "cell_type": "code",
      "source": [
        "# Assessing normality of residuals\n",
        "shapiro.test(residuals[0:5000])\n",
        "qqnorm(residuals)\n",
        "qqline(residuals)\n"
      ],
      "metadata": {
        "colab": {
          "base_uri": "https://localhost:8080/",
          "height": 524
        },
        "id": "5BgFz45pUOJO",
        "outputId": "92951db0-b3a3-4cb8-b520-4967126b69da"
      },
      "execution_count": null,
      "outputs": [
        {
          "output_type": "display_data",
          "data": {
            "text/plain": [
              "\n",
              "\tShapiro-Wilk normality test\n",
              "\n",
              "data:  residuals[0:5000]\n",
              "W = 0.88381, p-value < 2.2e-16\n"
            ]
          },
          "metadata": {}
        },
        {
          "output_type": "display_data",
          "data": {
            "text/plain": [
              "Plot with title “Normal Q-Q Plot”"
            ],
            "image/png": "[encoded data removed]"
          },
          "metadata": {
            "image/png": {
              "width": 420,
              "height": 420
            }
          }
        }
      ]
    },
    {
      "cell_type": "code",
      "source": [
        "# Assessing homogeneity of variance of residuals\n",
        "bp_test <- bptest(model)\n",
        "print(bp_test)"
      ],
      "metadata": {
        "colab": {
          "base_uri": "https://localhost:8080/"
        },
        "id": "fMWnvgTzUW7a",
        "outputId": "81bc647c-380d-4681-9510-1f421d7dac2f"
      },
      "execution_count": null,
      "outputs": [
        {
          "output_type": "stream",
          "name": "stdout",
          "text": [
            "\n",
            "\tstudentized Breusch-Pagan test\n",
            "\n",
            "data:  model\n",
            "BP = 491.98, df = 4, p-value < 2.2e-16\n",
            "\n"
          ]
        }
      ]
    }
  ]
}